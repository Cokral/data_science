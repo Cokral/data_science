{
 "cells": [
  {
   "cell_type": "markdown",
   "metadata": {},
   "source": [
    "# XOR\n",
    "\n",
    "In this notebook, we will use pytorch to make a network able to learn XOR. "
   ]
  },
  {
   "cell_type": "code",
   "execution_count": 1,
   "metadata": {},
   "outputs": [],
   "source": [
    "# pip install torch==1.7.1+cpu torchvision==0.8.2+cpu torchaudio===0.7.2 -f https://download.pytorch.org/whl/torch_stable.html"
   ]
  },
  {
   "cell_type": "code",
   "execution_count": 2,
   "metadata": {},
   "outputs": [],
   "source": [
    "import numpy as np\n",
    "import torch\n",
    "import torch.nn as nn\n",
    "import torch.nn.functional as F\n",
    "import torch.optim as optim"
   ]
  },
  {
   "cell_type": "code",
   "execution_count": 3,
   "metadata": {},
   "outputs": [],
   "source": [
    "X = torch.Tensor([[0, 0], [0, 1], [1, 0], [1, 1]])\n",
    "y = torch.tensor([[0.], [1.], [1.], [0.]], requires_grad=True)"
   ]
  },
  {
   "cell_type": "markdown",
   "metadata": {},
   "source": [
    "Above, we have the data necessary to learn the XOR problem. It consists of every possible combination of the two variables x1 and x2, and the associated y value."
   ]
  },
  {
   "cell_type": "code",
   "execution_count": 4,
   "metadata": {},
   "outputs": [],
   "source": [
    "class Net(nn.Module):\n",
    "    \n",
    "    def __init__(self):\n",
    "        super().__init__()\n",
    "\n",
    "        self.fc1 = nn.Linear(in_features=2, out_features=3)\n",
    "        self.fc2 = nn.Linear(in_features=3, out_features=1)\n",
    "    \n",
    "    def forward(self, x):\n",
    "        x = F.relu(self.fc1(x))\n",
    "        x = self.fc2(x)\n",
    "        return nn.Sigmoid()(x)"
   ]
  },
  {
   "cell_type": "markdown",
   "metadata": {},
   "source": [
    "Above is the neural network we will use to learn how to solve the XOR problem.    \n",
    "One of the challenge of the XOR is that it is not a linear problem, so a classic linear Machine Learning algorithm wouldn't be able to solve it."
   ]
  },
  {
   "cell_type": "code",
   "execution_count": 5,
   "metadata": {},
   "outputs": [],
   "source": [
    "net = Net()\n",
    "optimizer = optim.SGD(net.parameters(), lr=0.1)\n",
    "epochs = 10000"
   ]
  },
  {
   "cell_type": "code",
   "execution_count": 6,
   "metadata": {},
   "outputs": [
    {
     "name": "stdout",
     "output_type": "stream",
     "text": [
      "Epoch #0 → 0.26369836926460266\n",
      "Epoch #1000 → 0.07146775722503662\n",
      "Epoch #2000 → 0.01217123493552208\n",
      "Epoch #3000 → 0.005333013832569122\n",
      "Epoch #4000 → 0.0032238338608294725\n",
      "Epoch #5000 → 0.0022554725874215364\n",
      "Epoch #6000 → 0.0017135521629825234\n",
      "Epoch #7000 → 0.0013717401307076216\n",
      "Epoch #8000 → 0.0011380105279386044\n",
      "Epoch #9000 → 0.0009689016733318567\n"
     ]
    }
   ],
   "source": [
    "for epoch in range(epochs):\n",
    "    net.zero_grad()\n",
    "    output = net(X)\n",
    "    loss = nn.MSELoss()(output, y)\n",
    "    loss.backward()\n",
    "    optimizer.step()\n",
    "    if epoch%1000 == 0:\n",
    "        print(f'Epoch #{epoch} → {loss}')"
   ]
  },
  {
   "cell_type": "markdown",
   "metadata": {},
   "source": [
    "As we can see it converges eventually."
   ]
  },
  {
   "cell_type": "code",
   "execution_count": 7,
   "metadata": {
    "scrolled": true
   },
   "outputs": [
    {
     "data": {
      "text/plain": [
       "tensor([[0.0453],\n",
       "        [0.9780],\n",
       "        [0.9779],\n",
       "        [0.0184]], grad_fn=<SigmoidBackward>)"
      ]
     },
     "execution_count": 7,
     "metadata": {},
     "output_type": "execute_result"
    }
   ],
   "source": [
    "net(X)"
   ]
  },
  {
   "cell_type": "markdown",
   "metadata": {},
   "source": [
    "We get the appropriate results, when rounding our results, we would have the expected [0, 1, 1, 0] corresponding to the actual values."
   ]
  },
  {
   "cell_type": "markdown",
   "metadata": {},
   "source": [
    "Our solution relies a lot on the initiation of weights. Given the wrong set of initial weights, it might never converge to the right solution."
   ]
  }
 ],
 "metadata": {
  "kernelspec": {
   "display_name": "Python 3",
   "language": "python",
   "name": "python3"
  },
  "language_info": {
   "codemirror_mode": {
    "name": "ipython",
    "version": 3
   },
   "file_extension": ".py",
   "mimetype": "text/x-python",
   "name": "python",
   "nbconvert_exporter": "python",
   "pygments_lexer": "ipython3",
   "version": "3.7.9"
  }
 },
 "nbformat": 4,
 "nbformat_minor": 4
}
