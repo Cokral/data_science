{
 "cells": [
  {
   "cell_type": "markdown",
   "metadata": {},
   "source": [
    "# Probability"
   ]
  },
  {
   "cell_type": "markdown",
   "metadata": {},
   "source": [
    "\"Probability theory is a mathematical framework for **representing uncertain statements**. It provides a means of **quantifying uncertainty** as well as axioms for deriving new uncertain statements. In Artificial Intelligence, we use probability theory in two major ways. First, the laws of probability tell us how AI systems should reason, so we design our algorithms to **compute or approximate various expressions** derived using probability theory. Second, we can use probability and statistics to theoretically **analyze the behavior of proposed AI systems**.\""
   ]
  },
  {
   "cell_type": "markdown",
   "metadata": {},
   "source": [
    "## Random Variable\n",
    "\n",
    "A **random variable** is a variable that can take on different values randomly.  \n",
    "It must be coupled with a probability distribution.  \n",
    "It can be **discrete** or **continuous**."
   ]
  },
  {
   "cell_type": "markdown",
   "metadata": {},
   "source": [
    "## Probability Distributions\n",
    "\n",
    "A **probability distribution** is \"how likely a random variable is to take on each of its possible states\".  \n",
    "The description is different for discrete and continuous variables.  "
   ]
  },
  {
   "cell_type": "markdown",
   "metadata": {},
   "source": [
    "### Discrete variables and Probability Mass Functions\n",
    "\n",
    "A probability distribution over **discrete** variables may be described with **Probability Mass Function (PMF)**. \n",
    "\n",
    "It can act on many variables at the same time and is known in this case as **joint probability distribution** $p(\\mathbf{x} = x, \\mathbf{y} = y)$ that we denote $p(x, y)$\n",
    "\n",
    "\n",
    "To be a PMF it must satisfy the following : \n",
    " - The domain of $p$ must be the set of all possible states of $x$\n",
    " - $\\forall x \\in x, 0 \\leq p(x) \\leq 1$\n",
    " - $\\sum_{x \\in \\mathbf{x}}p(x) = 1$ which means that it is **normalized**."
   ]
  },
  {
   "cell_type": "markdown",
   "metadata": {},
   "source": [
    "Consider a single discrete random variable $x$ with $k$ different states.  \n",
    "We can place a **uniform distribution** on $x$ by setting its PMF to : \n",
    "\n",
    "\\begin{equation*}\n",
    "p(\\mathbf{x}=x_i) = \\frac{1}{k}\n",
    "\\end{equation*}"
   ]
  },
  {
   "cell_type": "markdown",
   "metadata": {},
   "source": [
    "### Continuous Variables and Probability Density Functions\n",
    "\n",
    "When working with **continuous variables**, we can use a **probability density function (PDF)** rather than a PMF.  \n",
    "It must satisfy the following : \n",
    " - //\n",
    " - $\\forall x \\in \\mathbf{x}, p(x) \\geq 0$, note that we do not require $p(x) \\leq 1$\n",
    " - $\\int p(x) dx = 1$\n",
    " \n",
    "It doesn't give the probability of a specific directly.  \n",
    "The probability that $x$ lies in some set $S$ is given by the integral of $p(x)$ over that set."
   ]
  },
  {
   "cell_type": "markdown",
   "metadata": {},
   "source": [
    "## Marginal Probability\n",
    "\n",
    "Sometimes we want to know the probability distribution just over a subset of the variables.\n",
    "It is known as the **marginal probability distribution**.\n",
    "\n",
    "For example, we have two random discrete variables $x$ and $y$ and we know $P(x, y)$.  \n",
    "We can find $P(x)$ with the sum rule.\n",
    "\n",
    "\\begin{equation*}\n",
    "\\forall x \\in \\mathbf{x}, P(\\mathbf{x}=x) = \\sum_y P(\\mathbf{x}=x, \\mathbf{y}=y)\n",
    "\\end{equation*}\n",
    "\n",
    "For continuous variables, we need to use the integration instead : \n",
    "\n",
    "\\begin{equation*}\n",
    "p(x) = \\int p(x, y) dy\n",
    "\\end{equation*}"
   ]
  },
  {
   "cell_type": "markdown",
   "metadata": {},
   "source": [
    "## Conditional Probability\n",
    "\n",
    "Sometimes we are interested on the probability of some event given that another event occured, this is called **conditional probability**.  \n",
    "It can be computed with : \n",
    "\n",
    "\n",
    "\\begin{equation*}\n",
    "P(\\mathbf{y}=y | \\mathbf{x}=x) = \\frac{P(\\mathbf{y}=y, \\mathbf{x}=x)}{P(\\mathbf{x}=x}\n",
    "\\end{equation*}\n",
    "\n",
    "It can only be computed when $P(\\mathbf{x}=x) > 0$\n",
    "\n",
    "**Attention**, it is different from computing the consequence of an action, which is called : **intervention query** and is in the domain of **causal modeling**."
   ]
  },
  {
   "cell_type": "markdown",
   "metadata": {},
   "source": [
    "## Independence and Conditional Independence\n",
    "\n",
    "Two random variables $x$ and $y$ are **independent** if their probability distribution can be expressed as a product of two factors.  \n",
    "\n",
    "Two random variables $x$ and $y$ are **conditionally independent** given a random variable $z$ if the conditional probability distribution over $x$ and $y$ factorizes in this way for every value of $z$."
   ]
  },
  {
   "cell_type": "code",
   "execution_count": null,
   "metadata": {},
   "outputs": [],
   "source": []
  }
 ],
 "metadata": {
  "kernelspec": {
   "display_name": "Python 3",
   "language": "python",
   "name": "python3"
  },
  "language_info": {
   "codemirror_mode": {
    "name": "ipython",
    "version": 3
   },
   "file_extension": ".py",
   "mimetype": "text/x-python",
   "name": "python",
   "nbconvert_exporter": "python",
   "pygments_lexer": "ipython3",
   "version": "3.6.7"
  }
 },
 "nbformat": 4,
 "nbformat_minor": 4
}
