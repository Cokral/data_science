{
 "cells": [
  {
   "cell_type": "markdown",
   "metadata": {},
   "source": [
    "# Common Probability Distributions"
   ]
  },
  {
   "cell_type": "code",
   "execution_count": 1,
   "metadata": {},
   "outputs": [],
   "source": [
    "import numpy as np\n",
    "import seaborn as sns"
   ]
  },
  {
   "cell_type": "markdown",
   "metadata": {},
   "source": [
    "## Bernoulli Distribution\n",
    "\n",
    "The **Bernoulli Distribution** is a distribution over a single binary random variable.  \n",
    "It is controlled by a signle parameter $\\phi \\in [0, 1]$, which gives the probability of the random variable being equal to 1. It has the following properties : \n",
    "\n",
    "\\begin{equation*}\n",
    "P(x=1) = \\phi\n",
    "\\end{equation*}\n",
    "\n",
    "\\begin{equation*}\n",
    "P(x=0) = 1 - \\phi\n",
    "\\end{equation*}\n",
    "\n",
    "\\begin{equation*}\n",
    "P(\\mathbf{x}=x) = \\phi^x(1-\\phi)^{1-x}\n",
    "\\end{equation*}\n",
    "\n",
    "\\begin{equation*}\n",
    "\\mathbb{E}_x[x]=\\phi\n",
    "\\end{equation*}\n",
    "\n",
    "\\begin{equation*}\n",
    "Var_x(x)=\\phi(1-\\phi)\n",
    "\\end{equation*}"
   ]
  },
  {
   "cell_type": "markdown",
   "metadata": {},
   "source": [
    "### Example"
   ]
  },
  {
   "cell_type": "code",
   "execution_count": 2,
   "metadata": {},
   "outputs": [],
   "source": [
    "from scipy.stats import bernoulli"
   ]
  },
  {
   "cell_type": "code",
   "execution_count": 3,
   "metadata": {},
   "outputs": [],
   "source": [
    "data_bernoulli = bernoulli.rvs(size=100, p=0.6)"
   ]
  },
  {
   "cell_type": "code",
   "execution_count": 4,
   "metadata": {},
   "outputs": [
    {
     "data": {
      "image/png": "[encoded data removed]",
      "text/plain": [
       "<Figure size 432x288 with 1 Axes>"
      ]
     },
     "metadata": {
      "needs_background": "light"
     },
     "output_type": "display_data"
    }
   ],
   "source": [
    "ax = sns.distplot(data_bernoulli,\n",
    "                  kde=False)\n",
    "ax.set(xlabel='Bernoulli Distribution', ylabel='Frequency');"
   ]
  }
 ],
 "metadata": {
  "kernelspec": {
   "display_name": "Python 3",
   "language": "python",
   "name": "python3"
  },
  "language_info": {
   "codemirror_mode": {
    "name": "ipython",
    "version": 3
   },
   "file_extension": ".py",
   "mimetype": "text/x-python",
   "name": "python",
   "nbconvert_exporter": "python",
   "pygments_lexer": "ipython3",
   "version": "3.6.7"
  }
 },
 "nbformat": 4,
 "nbformat_minor": 4
}
